{
  "nbformat": 4,
  "nbformat_minor": 0,
  "metadata": {
    "colab": {
      "provenance": [],
      "authorship_tag": "ABX9TyMAbVYSOnXqpEIWGJWPH4Qs",
      "include_colab_link": true
    },
    "kernelspec": {
      "name": "python3",
      "display_name": "Python 3"
    },
    "language_info": {
      "name": "python"
    }
  },
  "cells": [
    {
      "cell_type": "markdown",
      "metadata": {
        "id": "view-in-github",
        "colab_type": "text"
      },
      "source": [
        "<a href=\"https://colab.research.google.com/github/aparna2071/Layer-normalization-transformer/blob/main/layer_normalization_transformer.ipynb\" target=\"_parent\"><img src=\"https://colab.research.google.com/assets/colab-badge.svg\" alt=\"Open In Colab\"/></a>"
      ]
    },
    {
      "cell_type": "code",
      "execution_count": 19,
      "metadata": {
        "id": "ooQn6GIX-LzM"
      },
      "outputs": [],
      "source": [
        "import torch\n",
        "from torch import nn"
      ]
    },
    {
      "cell_type": "code",
      "source": [
        "inputs=torch.Tensor([[[0.1,0.4,0.2],[0.6,0.5,0.1]]])\n",
        "B,S,E=inputs.size()\n",
        "inputs=inputs.reshape(S,B,E)\n",
        "inputs.size()"
      ],
      "metadata": {
        "colab": {
          "base_uri": "https://localhost:8080/"
        },
        "id": "duSwb7n4-nGj",
        "outputId": "c9892102-de93-4b5f-ddbf-7363f25f8d33"
      },
      "execution_count": 2,
      "outputs": [
        {
          "output_type": "execute_result",
          "data": {
            "text/plain": [
              "torch.Size([2, 1, 3])"
            ]
          },
          "metadata": {},
          "execution_count": 2
        }
      ]
    },
    {
      "cell_type": "code",
      "source": [
        "parameter_shape=inputs.size()[-2:]\n",
        "gamma=nn.Parameter(torch.ones(parameter_shape))\n",
        "beta=nn.Parameter(torch.zeros(parameter_shape))"
      ],
      "metadata": {
        "id": "tH45617cHmR7"
      },
      "execution_count": 7,
      "outputs": []
    },
    {
      "cell_type": "code",
      "source": [
        "gamma, beta"
      ],
      "metadata": {
        "colab": {
          "base_uri": "https://localhost:8080/"
        },
        "id": "MV97B-b2IYNn",
        "outputId": "d603d207-8e36-4873-def7-cf86251df714"
      },
      "execution_count": 9,
      "outputs": [
        {
          "output_type": "execute_result",
          "data": {
            "text/plain": [
              "(Parameter containing:\n",
              " tensor([[1., 1., 1.]], requires_grad=True),\n",
              " Parameter containing:\n",
              " tensor([[0., 0., 0.]], requires_grad=True))"
            ]
          },
          "metadata": {},
          "execution_count": 9
        }
      ]
    },
    {
      "cell_type": "code",
      "source": [
        "gamma.size(), beta.size()"
      ],
      "metadata": {
        "colab": {
          "base_uri": "https://localhost:8080/"
        },
        "id": "ssq4WZshIj7Z",
        "outputId": "cf01ce1e-b94a-4dd8-ab9d-2835a7e57cd0"
      },
      "execution_count": 10,
      "outputs": [
        {
          "output_type": "execute_result",
          "data": {
            "text/plain": [
              "(torch.Size([1, 3]), torch.Size([1, 3]))"
            ]
          },
          "metadata": {},
          "execution_count": 10
        }
      ]
    },
    {
      "cell_type": "code",
      "source": [
        "dims=[-(i+1) for i in range(len(parameter_shape))]\n",
        "dims"
      ],
      "metadata": {
        "colab": {
          "base_uri": "https://localhost:8080/"
        },
        "id": "L1OHZAb9I9oa",
        "outputId": "1ddfaff7-646b-49e5-b1e3-1f116d70e657"
      },
      "execution_count": 11,
      "outputs": [
        {
          "output_type": "execute_result",
          "data": {
            "text/plain": [
              "[-1, -2]"
            ]
          },
          "metadata": {},
          "execution_count": 11
        }
      ]
    },
    {
      "cell_type": "code",
      "source": [
        "mean=inputs.mean(dim=dims,keepdim=True)\n",
        "mean.size()"
      ],
      "metadata": {
        "colab": {
          "base_uri": "https://localhost:8080/"
        },
        "id": "kzyEIf-iJ-_e",
        "outputId": "28f07bc1-c9b1-4b82-94af-39d9b52803de"
      },
      "execution_count": 12,
      "outputs": [
        {
          "output_type": "execute_result",
          "data": {
            "text/plain": [
              "torch.Size([2, 1, 1])"
            ]
          },
          "metadata": {},
          "execution_count": 12
        }
      ]
    },
    {
      "cell_type": "code",
      "source": [
        "mean"
      ],
      "metadata": {
        "colab": {
          "base_uri": "https://localhost:8080/"
        },
        "id": "dA4eKZKMLoNG",
        "outputId": "e80ed535-c110-4c3e-c80a-aaa828e96c21"
      },
      "execution_count": 21,
      "outputs": [
        {
          "output_type": "execute_result",
          "data": {
            "text/plain": [
              "tensor([[[0.2333]],\n",
              "\n",
              "        [[0.4000]]])"
            ]
          },
          "metadata": {},
          "execution_count": 21
        }
      ]
    },
    {
      "cell_type": "code",
      "source": [
        "var=((inputs-mean)**2).mean(dim=dims,keepdim=True)\n",
        "epsilon=1e-5\n",
        "std=(var+epsilon).sqrt()  #epsilon is added because std is in deno so that deno don't become 0\n",
        "std"
      ],
      "metadata": {
        "colab": {
          "base_uri": "https://localhost:8080/"
        },
        "id": "ccvG9BBSMXKC",
        "outputId": "3c206a1e-4d7d-4b17-9d96-94ed3a9dd9ef"
      },
      "execution_count": 22,
      "outputs": [
        {
          "output_type": "execute_result",
          "data": {
            "text/plain": [
              "tensor([[[0.1248]],\n",
              "\n",
              "        [[0.2160]]])"
            ]
          },
          "metadata": {},
          "execution_count": 22
        }
      ]
    },
    {
      "cell_type": "code",
      "source": [
        "y=(inputs-mean)/std\n",
        "y"
      ],
      "metadata": {
        "colab": {
          "base_uri": "https://localhost:8080/"
        },
        "id": "i7Ob2T0GO8d1",
        "outputId": "5dfa24a6-f5e9-4fa9-a2a7-c4c1c11dbd88"
      },
      "execution_count": 23,
      "outputs": [
        {
          "output_type": "execute_result",
          "data": {
            "text/plain": [
              "tensor([[[-1.0687,  1.3359, -0.2672]],\n",
              "\n",
              "        [[ 0.9257,  0.4629, -1.3886]]])"
            ]
          },
          "metadata": {},
          "execution_count": 23
        }
      ]
    },
    {
      "cell_type": "code",
      "source": [
        "out=gamma*y+beta\n",
        "out"
      ],
      "metadata": {
        "colab": {
          "base_uri": "https://localhost:8080/"
        },
        "id": "5Y_BkAYWPJGw",
        "outputId": "e215e155-3e6b-45aa-db01-c0ef22076bd2"
      },
      "execution_count": 25,
      "outputs": [
        {
          "output_type": "execute_result",
          "data": {
            "text/plain": [
              "tensor([[[-1.0687,  1.3359, -0.2672]],\n",
              "\n",
              "        [[ 0.9257,  0.4629, -1.3886]]], grad_fn=<AddBackward0>)"
            ]
          },
          "metadata": {},
          "execution_count": 25
        }
      ]
    },
    {
      "cell_type": "markdown",
      "source": [
        "Class"
      ],
      "metadata": {
        "id": "QKAQfgz4PtJZ"
      }
    },
    {
      "cell_type": "code",
      "source": [
        "import torch\n",
        "from torch import nn\n",
        "\n",
        "class LayerNormalization():\n",
        "    def __init__(self, parameters_shape, eps=1e-5):\n",
        "        self.parameters_shape=parameters_shape\n",
        "        self.eps=eps\n",
        "        self.gamma = nn.Parameter(torch.ones(parameters_shape))\n",
        "        self.beta =  nn.Parameter(torch.zeros(parameters_shape))\n",
        "\n",
        "    def forward(self, input):\n",
        "        dims = [-(i + 1) for i in range(len(self.parameters_shape))]\n",
        "        mean = inputs.mean(dim=dims, keepdim=True)\n",
        "        print(f\"Mean \\n ({mean.size()}): \\n {mean}\")\n",
        "        var = ((inputs - mean) ** 2).mean(dim=dims, keepdim=True)\n",
        "        std = (var + self.eps).sqrt()\n",
        "        print(f\"Standard Deviation \\n ({std.size()}): \\n {std}\")\n",
        "        y = (inputs - mean) / std\n",
        "        print(f\"y \\n ({y.size()}) = \\n {y}\")\n",
        "        out = self.gamma * y  + self.beta\n",
        "        print(f\"out \\n ({out.size()}) = \\n {out}\")\n",
        "        return out\n",
        ""
      ],
      "metadata": {
        "id": "D4no3fHpPu4G"
      },
      "execution_count": 27,
      "outputs": []
    },
    {
      "cell_type": "code",
      "source": [
        "batch_size = 3\n",
        "sentence_length = 5\n",
        "embedding_dim = 8\n",
        "inputs = torch.randn(sentence_length, batch_size, embedding_dim)\n",
        "\n",
        "print(f\"input \\n ({inputs.size()}) = \\n {inputs}\")"
      ],
      "metadata": {
        "colab": {
          "base_uri": "https://localhost:8080/"
        },
        "id": "e9k25BaEP2hd",
        "outputId": "e096a928-5813-4da5-e6e8-189d9d02a632"
      },
      "execution_count": 28,
      "outputs": [
        {
          "output_type": "stream",
          "name": "stdout",
          "text": [
            "input \n",
            " (torch.Size([5, 3, 8])) = \n",
            " tensor([[[ 0.7608,  0.0573,  1.2470, -0.6974,  2.3055, -0.9232, -2.3358,\n",
            "          -1.3056],\n",
            "         [ 1.4321, -0.5284, -0.6818,  0.1905, -0.0661, -0.3519,  0.6036,\n",
            "          -0.5913],\n",
            "         [ 0.6971, -2.5090, -1.1411, -0.9707, -0.5398,  1.6687, -1.1722,\n",
            "           0.2297]],\n",
            "\n",
            "        [[-0.5979, -1.6844,  1.0192,  0.0198, -0.3714,  0.3348,  1.3100,\n",
            "           0.4670],\n",
            "         [ 1.2634, -1.5431,  1.4209,  0.7463,  1.1878,  1.6404,  0.8545,\n",
            "           0.0491],\n",
            "         [ 0.2769, -1.0410,  1.3442, -1.6834,  0.1019, -0.6866,  0.3136,\n",
            "           0.6992]],\n",
            "\n",
            "        [[-0.2361,  1.0625,  1.1237, -0.1775, -0.6580,  0.4432, -1.0826,\n",
            "          -1.0769],\n",
            "         [ 0.2919,  0.2945, -1.0927, -0.1773, -0.7700,  0.7505,  0.8031,\n",
            "          -0.9150],\n",
            "         [ 0.6882, -1.2286,  1.8163,  0.2608,  0.4796, -0.8763, -2.0883,\n",
            "           1.2136]],\n",
            "\n",
            "        [[-0.1290,  1.7248, -0.5976, -0.6140, -0.0690, -0.0244, -0.2034,\n",
            "          -0.8507],\n",
            "         [ 1.4386,  1.4446, -1.0296,  0.8108,  1.1509, -1.5352, -0.5208,\n",
            "          -0.2391],\n",
            "         [-0.3877, -0.4059, -1.8186,  0.3236,  1.7170,  0.3662,  0.2859,\n",
            "          -0.9368]],\n",
            "\n",
            "        [[-1.0383,  0.8968, -0.0649,  1.1626,  0.5384,  0.2296, -0.3560,\n",
            "           0.3053],\n",
            "         [ 0.4707, -0.6801, -1.4124,  0.0450, -1.7344,  0.6969, -0.5514,\n",
            "           0.9527],\n",
            "         [-2.0171,  0.3601, -0.9102,  0.8656,  1.3700, -0.8103, -0.7405,\n",
            "          -0.3170]]])\n"
          ]
        }
      ]
    }
  ]
}